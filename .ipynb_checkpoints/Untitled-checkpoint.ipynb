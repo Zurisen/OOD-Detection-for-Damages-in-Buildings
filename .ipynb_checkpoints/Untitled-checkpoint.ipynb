{
 "cells": [
  {
   "cell_type": "code",
   "execution_count": 1,
   "id": "2bac62de-6575-4f83-8c7d-932f0440587c",
   "metadata": {},
   "outputs": [],
   "source": [
    "# original code is from https://github.com/aaron-xichen/pytorch-playground\n",
    "# modified by Kimin Lee\n",
    "import torch\n",
    "from torchvision import datasets, transforms\n",
    "from torch.utils.data import DataLoader\n",
    "import os\n",
    "import numpy.random as nr\n",
    "import numpy as np\n",
    "from torch.utils.data.sampler import SubsetRandomSampler"
   ]
  },
  {
   "cell_type": "code",
   "execution_count": 2,
   "id": "c76e1101-8cb3-4946-b04e-ca72127aa1a2",
   "metadata": {},
   "outputs": [],
   "source": [
    "class DinDataset(torch.utils.data.Dataset):\n",
    "    def __init__(self, image_size, data_path='../data_in'):\n",
    "        'Initialization'\n",
    "        self.transform = transforms.Compose([transforms.Resize((image_size, image_size)), \n",
    "                                    transforms.ToTensor(),\n",
    "                                    transforms.Normalize((0.5, 0.5, 0.5), (0.5, 0.5, 0.5))]\n",
    "                                    )\n",
    "        self.image_paths = glob.glob(data_path+'/*/*.jpg')\n",
    "        \n",
    "        \n",
    "    def __len__(self):\n",
    "        'Returns the total number of samples'\n",
    "        return len(self.image_paths)\n",
    "    \n",
    "    def __getitem__(self, idx):\n",
    "        'Generates one sample of data'\n",
    "        image_path = self.image_paths[idx]\n",
    "        image = Image.open(image_path)\n",
    "        \n",
    "        X = self.transform(image)\n",
    "        y = torch.tensor(class_onehot[image_path.split('/')[-2]])\n",
    "        return X, y"
   ]
  },
  {
   "cell_type": "code",
   "execution_count": 4,
   "id": "6552a196-289e-42da-b200-5616a4a4a62d",
   "metadata": {},
   "outputs": [],
   "source": [
    "def getDin1(batch_size, img_size=32, data_root='/tmp/public_dataset/pytorch', train=True, val=True, **kwargs):\n",
    "    data_root = os.path.expanduser(os.path.join(data_root, 'cifar10-data'))\n",
    "    num_workers = kwargs.setdefault('num_workers', 1)\n",
    "    kwargs.pop('input_size', None)\n",
    "    print(\"Building Din data loader with {} workers\".format(num_workers))\n",
    "    ds = []\n",
    "    if train:\n",
    "        train_loader = torch.utils.data.DataLoader(DinDataset(img_size, data_root),\n",
    "                                                   batch_size=batch_size, shuffle=True, **kwargs)\n",
    "        ds.append(train_loader)\n",
    "    if val:\n",
    "        test_loader = torch.utils.data.DataLoader(torch.utils.data.Subset(train_loader.dataset,\n",
    "                                                                          torch.arange(int(0.1*len(train_dataset))) ),\n",
    "                                                  batch_size=batch_size, shuffle=False, **kwargs)\n",
    "        ds.append(test_loader)\n",
    "    ds = ds[0] if len(ds) == 1 else ds\n",
    "    return ds"
   ]
  },
  {
   "cell_type": "code",
   "execution_count": null,
   "id": "b8fc192c-0b6c-43e0-a7d0-c67587bd4e99",
   "metadata": {},
   "outputs": [],
   "source": [
    "def getTargetDataSet(data_type, batch_size, imageSize, dataroot):\n",
    "    if data_type == 'Din1':\n",
    "        train_loader, test_loader = getDin1(batch_size=batch_size, img_size=imageSize, data_root=dataroot, num_workers=1)\n",
    "\n",
    "    return train_loader, test_loader"
   ]
  },
  {
   "cell_type": "code",
   "execution_count": null,
   "id": "4419b1a6-a6e9-4a7c-813f-8c5c9e0bbfc6",
   "metadata": {},
   "outputs": [],
   "source": []
  }
 ],
 "metadata": {
  "kernelspec": {
   "display_name": "Python 3",
   "language": "python",
   "name": "python3"
  },
  "language_info": {
   "codemirror_mode": {
    "name": "ipython",
    "version": 3
   },
   "file_extension": ".py",
   "mimetype": "text/x-python",
   "name": "python",
   "nbconvert_exporter": "python",
   "pygments_lexer": "ipython3",
   "version": "3.8.2"
  }
 },
 "nbformat": 4,
 "nbformat_minor": 5
}
